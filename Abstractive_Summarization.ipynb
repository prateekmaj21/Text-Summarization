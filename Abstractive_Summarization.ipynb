{
  "nbformat": 4,
  "nbformat_minor": 0,
  "metadata": {
    "colab": {
      "provenance": []
    },
    "kernelspec": {
      "name": "python3",
      "display_name": "Python 3"
    },
    "language_info": {
      "name": "python"
    }
  },
  "cells": [
    {
      "cell_type": "code",
      "source": [
        "pip install nltk rouge-score bert-score"
      ],
      "metadata": {
        "colab": {
          "base_uri": "https://localhost:8080/"
        },
        "id": "nhnfWv0yVDjR",
        "outputId": "5724cc3b-8e6c-4ea2-8808-7d515a55dbf4"
      },
      "execution_count": 38,
      "outputs": [
        {
          "output_type": "stream",
          "name": "stdout",
          "text": [
            "Requirement already satisfied: nltk in /usr/local/lib/python3.10/dist-packages (3.9.1)\n",
            "Requirement already satisfied: rouge-score in /usr/local/lib/python3.10/dist-packages (0.1.2)\n",
            "Requirement already satisfied: bert-score in /usr/local/lib/python3.10/dist-packages (0.3.13)\n",
            "Requirement already satisfied: click in /usr/local/lib/python3.10/dist-packages (from nltk) (8.1.7)\n",
            "Requirement already satisfied: joblib in /usr/local/lib/python3.10/dist-packages (from nltk) (1.4.2)\n",
            "Requirement already satisfied: regex>=2021.8.3 in /usr/local/lib/python3.10/dist-packages (from nltk) (2024.9.11)\n",
            "Requirement already satisfied: tqdm in /usr/local/lib/python3.10/dist-packages (from nltk) (4.66.6)\n",
            "Requirement already satisfied: absl-py in /usr/local/lib/python3.10/dist-packages (from rouge-score) (1.4.0)\n",
            "Requirement already satisfied: numpy in /usr/local/lib/python3.10/dist-packages (from rouge-score) (1.26.4)\n",
            "Requirement already satisfied: six>=1.14.0 in /usr/local/lib/python3.10/dist-packages (from rouge-score) (1.16.0)\n",
            "Requirement already satisfied: torch>=1.0.0 in /usr/local/lib/python3.10/dist-packages (from bert-score) (2.5.1+cu121)\n",
            "Requirement already satisfied: pandas>=1.0.1 in /usr/local/lib/python3.10/dist-packages (from bert-score) (2.2.2)\n",
            "Requirement already satisfied: transformers>=3.0.0 in /usr/local/lib/python3.10/dist-packages (from bert-score) (4.46.2)\n",
            "Requirement already satisfied: requests in /usr/local/lib/python3.10/dist-packages (from bert-score) (2.32.3)\n",
            "Requirement already satisfied: matplotlib in /usr/local/lib/python3.10/dist-packages (from bert-score) (3.8.0)\n",
            "Requirement already satisfied: packaging>=20.9 in /usr/local/lib/python3.10/dist-packages (from bert-score) (24.2)\n",
            "Requirement already satisfied: python-dateutil>=2.8.2 in /usr/local/lib/python3.10/dist-packages (from pandas>=1.0.1->bert-score) (2.8.2)\n",
            "Requirement already satisfied: pytz>=2020.1 in /usr/local/lib/python3.10/dist-packages (from pandas>=1.0.1->bert-score) (2024.2)\n",
            "Requirement already satisfied: tzdata>=2022.7 in /usr/local/lib/python3.10/dist-packages (from pandas>=1.0.1->bert-score) (2024.2)\n",
            "Requirement already satisfied: filelock in /usr/local/lib/python3.10/dist-packages (from torch>=1.0.0->bert-score) (3.16.1)\n",
            "Requirement already satisfied: typing-extensions>=4.8.0 in /usr/local/lib/python3.10/dist-packages (from torch>=1.0.0->bert-score) (4.12.2)\n",
            "Requirement already satisfied: networkx in /usr/local/lib/python3.10/dist-packages (from torch>=1.0.0->bert-score) (3.4.2)\n",
            "Requirement already satisfied: jinja2 in /usr/local/lib/python3.10/dist-packages (from torch>=1.0.0->bert-score) (3.1.4)\n",
            "Requirement already satisfied: fsspec in /usr/local/lib/python3.10/dist-packages (from torch>=1.0.0->bert-score) (2024.10.0)\n",
            "Requirement already satisfied: sympy==1.13.1 in /usr/local/lib/python3.10/dist-packages (from torch>=1.0.0->bert-score) (1.13.1)\n",
            "Requirement already satisfied: mpmath<1.4,>=1.1.0 in /usr/local/lib/python3.10/dist-packages (from sympy==1.13.1->torch>=1.0.0->bert-score) (1.3.0)\n",
            "Requirement already satisfied: huggingface-hub<1.0,>=0.23.2 in /usr/local/lib/python3.10/dist-packages (from transformers>=3.0.0->bert-score) (0.26.2)\n",
            "Requirement already satisfied: pyyaml>=5.1 in /usr/local/lib/python3.10/dist-packages (from transformers>=3.0.0->bert-score) (6.0.2)\n",
            "Requirement already satisfied: safetensors>=0.4.1 in /usr/local/lib/python3.10/dist-packages (from transformers>=3.0.0->bert-score) (0.4.5)\n",
            "Requirement already satisfied: tokenizers<0.21,>=0.20 in /usr/local/lib/python3.10/dist-packages (from transformers>=3.0.0->bert-score) (0.20.3)\n",
            "Requirement already satisfied: contourpy>=1.0.1 in /usr/local/lib/python3.10/dist-packages (from matplotlib->bert-score) (1.3.1)\n",
            "Requirement already satisfied: cycler>=0.10 in /usr/local/lib/python3.10/dist-packages (from matplotlib->bert-score) (0.12.1)\n",
            "Requirement already satisfied: fonttools>=4.22.0 in /usr/local/lib/python3.10/dist-packages (from matplotlib->bert-score) (4.55.0)\n",
            "Requirement already satisfied: kiwisolver>=1.0.1 in /usr/local/lib/python3.10/dist-packages (from matplotlib->bert-score) (1.4.7)\n",
            "Requirement already satisfied: pillow>=6.2.0 in /usr/local/lib/python3.10/dist-packages (from matplotlib->bert-score) (11.0.0)\n",
            "Requirement already satisfied: pyparsing>=2.3.1 in /usr/local/lib/python3.10/dist-packages (from matplotlib->bert-score) (3.2.0)\n",
            "Requirement already satisfied: charset-normalizer<4,>=2 in /usr/local/lib/python3.10/dist-packages (from requests->bert-score) (3.4.0)\n",
            "Requirement already satisfied: idna<4,>=2.5 in /usr/local/lib/python3.10/dist-packages (from requests->bert-score) (3.10)\n",
            "Requirement already satisfied: urllib3<3,>=1.21.1 in /usr/local/lib/python3.10/dist-packages (from requests->bert-score) (2.2.3)\n",
            "Requirement already satisfied: certifi>=2017.4.17 in /usr/local/lib/python3.10/dist-packages (from requests->bert-score) (2024.8.30)\n",
            "Requirement already satisfied: MarkupSafe>=2.0 in /usr/local/lib/python3.10/dist-packages (from jinja2->torch>=1.0.0->bert-score) (3.0.2)\n"
          ]
        }
      ]
    },
    {
      "cell_type": "code",
      "source": [
        "ref_summary=\"\"\"\n",
        "financial literacy is the ability to understand and make use of a variety of financial skills, including personal financial management, budgeting, and investing.\n",
        "educating yourself on these topics also involves learning how money works, setting and achieving financial goals, becoming aware of unethical/discriminatory financial practices, and managing financial challenges that life throws your way.\n",
        "personal finance is about making and meeting your financial goals, whether you want to own a home, help other members of your family, save for your children’s college education, support causes that you care about, plan for retirement, or anything else.\n",
        "\"\"\""
      ],
      "metadata": {
        "id": "lS0PeFr1XXC3"
      },
      "execution_count": 39,
      "outputs": []
    },
    {
      "cell_type": "code",
      "source": [
        "from rouge_score import rouge_scorer\n",
        "from bert_score import score as bert_score\n",
        "\n",
        "def calculate_summary_scores(reference_text, generated_summary):\n",
        "    # Prepare inputs\n",
        "    reference_list = [reference_text.split()]\n",
        "    generated_list = generated_summary.split()\n",
        "\n",
        "    # ROUGE Scores\n",
        "    rouge_scorer_instance = rouge_scorer.RougeScorer(['rouge1', 'rouge2', 'rougeL'], use_stemmer=True)\n",
        "    rouge_scores = rouge_scorer_instance.score(reference_text, generated_summary)\n",
        "\n",
        "    # BERTScore\n",
        "    P, R, F1 = bert_score([generated_summary], [reference_text], lang=\"en\")\n",
        "\n",
        "    # Display results\n",
        "    print(\"Summary Evaluation Metrics:\")\n",
        "    print(\"-\" * 30)\n",
        "    print(\"\\nROUGE Scores:\")\n",
        "    print(f\"  ROUGE-1: Precision: {rouge_scores['rouge1'].precision:.4f}, Recall: {rouge_scores['rouge1'].recall:.4f}, F1: {rouge_scores['rouge1'].fmeasure:.4f}\")\n",
        "    print(f\"  ROUGE-2: Precision: {rouge_scores['rouge2'].precision:.4f}, Recall: {rouge_scores['rouge2'].recall:.4f}, F1: {rouge_scores['rouge2'].fmeasure:.4f}\")\n",
        "    print(f\"  ROUGE-L: Precision: {rouge_scores['rougeL'].precision:.4f}, Recall: {rouge_scores['rougeL'].recall:.4f}, F1: {rouge_scores['rougeL'].fmeasure:.4f}\")\n",
        "    print(\"\\nBERT Score:\")\n",
        "    print(f\"  Precision: {P.mean().item():.4f}\")\n",
        "    print(f\"  Recall: {R.mean().item():.4f}\")\n",
        "    print(f\"  F1 Score: {F1.mean().item():.4f}\")"
      ],
      "metadata": {
        "id": "L7iwHhW6VMbv"
      },
      "execution_count": 40,
      "outputs": []
    },
    {
      "cell_type": "markdown",
      "source": [
        "## References:\n",
        "\n",
        "https://huggingface.co/spaces/evaluate-metric/bertscore"
      ],
      "metadata": {
        "id": "3IrjIC-YV0Fv"
      }
    },
    {
      "cell_type": "code",
      "execution_count": 41,
      "metadata": {
        "id": "FR1qOniJQS-d"
      },
      "outputs": [],
      "source": [
        "text = \"\"\"Financial literacy is the ability to understand and make use of a variety of financial skills, including personal financial management, budgeting, and investing. It also means comprehending certain financial principles and concepts, such as the time value of money, compound interest, managing debt, and financial planning.\n",
        "\n",
        "Achieving financial literacy can help individuals to avoid making poor financial decisions. It can help them become self-sufficient and achieve financial stability. Key steps to attaining financial literacy include learning how to create a budget, track spending, pay off debt, and plan for retirement.\n",
        "\n",
        "Educating yourself on these topics also involves learning how money works, setting and achieving financial goals, becoming aware of unethical/discriminatory financial practices, and managing financial challenges that life throws your way.\n",
        "Personal Finance Basics\n",
        "Personal finance is where financial literacy translates into individual financial decision-making. How do you manage your money? Which savings and investment vehicles are you using? Personal finance is about making and meeting your financial goals, whether you want to own a home, help other members of your family, save for your children’s college education, support causes that you care about, plan for retirement, or anything else.\n",
        "\n",
        "Among other topics, it encompasses banking, budgeting, handling debt and credit, and investing. Let’s take a look at these basics to get you started.\n",
        "\n",
        "Introduction to Bank Accounts\n",
        "A bank account is typically the first financial account that you’ll open. Bank accounts can hold and build the money you'll need for major purchases and life events. Here’s some background on bank accounts and why they are step one in creating a stable financial future.\n",
        "\n",
        "\"\"\""
      ]
    },
    {
      "cell_type": "code",
      "source": [
        "import re\n",
        "# Remove leading/trailing whitespace and extra newline characters\n",
        "text = text.strip()\n",
        "# Remove commented lines\n",
        "text = re.sub(r'^\\s*#.*$', '', text, flags=re.MULTILINE)\n",
        "\n",
        "# Remove extra whitespace within the text\n",
        "text = re.sub(r'\\s+', ' ', text)\n",
        "# Convert to lowercase\n",
        "text = text.lower()"
      ],
      "metadata": {
        "id": "AUcfV7tLHZJ2"
      },
      "execution_count": 42,
      "outputs": []
    },
    {
      "cell_type": "code",
      "source": [
        "print(text)"
      ],
      "metadata": {
        "colab": {
          "base_uri": "https://localhost:8080/"
        },
        "id": "b9-WyqwFHY9X",
        "outputId": "3f8718db-c3ef-426c-c960-db3f4aca930b"
      },
      "execution_count": 43,
      "outputs": [
        {
          "output_type": "stream",
          "name": "stdout",
          "text": [
            "financial literacy is the ability to understand and make use of a variety of financial skills, including personal financial management, budgeting, and investing. it also means comprehending certain financial principles and concepts, such as the time value of money, compound interest, managing debt, and financial planning. achieving financial literacy can help individuals to avoid making poor financial decisions. it can help them become self-sufficient and achieve financial stability. key steps to attaining financial literacy include learning how to create a budget, track spending, pay off debt, and plan for retirement. educating yourself on these topics also involves learning how money works, setting and achieving financial goals, becoming aware of unethical/discriminatory financial practices, and managing financial challenges that life throws your way. personal finance basics personal finance is where financial literacy translates into individual financial decision-making. how do you manage your money? which savings and investment vehicles are you using? personal finance is about making and meeting your financial goals, whether you want to own a home, help other members of your family, save for your children’s college education, support causes that you care about, plan for retirement, or anything else. among other topics, it encompasses banking, budgeting, handling debt and credit, and investing. let’s take a look at these basics to get you started. introduction to bank accounts a bank account is typically the first financial account that you’ll open. bank accounts can hold and build the money you'll need for major purchases and life events. here’s some background on bank accounts and why they are step one in creating a stable financial future.\n"
          ]
        }
      ]
    },
    {
      "cell_type": "markdown",
      "source": [
        "**Google T5**"
      ],
      "metadata": {
        "id": "lmPqMqMXXuVs"
      }
    },
    {
      "cell_type": "code",
      "source": [
        "import torch\n",
        "\n",
        "from transformers import AutoTokenizer, AutoModelWithLMHead"
      ],
      "metadata": {
        "id": "LcZq6WKLQbXK"
      },
      "execution_count": 44,
      "outputs": []
    },
    {
      "cell_type": "code",
      "source": [
        "tokenizer = AutoTokenizer.from_pretrained('t5-base')\n",
        "model = AutoModelWithLMHead.from_pretrained('t5-base', return_dict=True)"
      ],
      "metadata": {
        "id": "OlzWR327QfiI",
        "colab": {
          "base_uri": "https://localhost:8080/"
        },
        "outputId": "3f7a3423-e5be-4f21-b698-c13ef18df4e7"
      },
      "execution_count": 45,
      "outputs": [
        {
          "output_type": "stream",
          "name": "stderr",
          "text": [
            "/usr/local/lib/python3.10/dist-packages/transformers/models/auto/modeling_auto.py:1833: FutureWarning: The class `AutoModelWithLMHead` is deprecated and will be removed in a future version. Please use `AutoModelForCausalLM` for causal language models, `AutoModelForMaskedLM` for masked language models and `AutoModelForSeq2SeqLM` for encoder-decoder models.\n",
            "  warnings.warn(\n"
          ]
        }
      ]
    },
    {
      "cell_type": "markdown",
      "source": [
        "**Prompt 1**"
      ],
      "metadata": {
        "id": "dNM3qr2K3_7Q"
      }
    },
    {
      "cell_type": "code",
      "source": [
        "inputs = tokenizer.encode(\"Summarize the text and give key points briefly:   \" + text,\n",
        "return_tensors='pt',\n",
        "max_length=512,\n",
        "truncation=True)"
      ],
      "metadata": {
        "id": "J3OnyJWIQtkH"
      },
      "execution_count": 46,
      "outputs": []
    },
    {
      "cell_type": "code",
      "source": [
        "summary_ids = model.generate(inputs, max_length=60, min_length=40)\n",
        "summary = tokenizer.decode(summary_ids[0], skip_special_tokens=True)"
      ],
      "metadata": {
        "id": "MiFzRL1dQ8p2"
      },
      "execution_count": 47,
      "outputs": []
    },
    {
      "cell_type": "code",
      "source": [
        "summary"
      ],
      "metadata": {
        "colab": {
          "base_uri": "https://localhost:8080/",
          "height": 53
        },
        "id": "8iIay1sMRHDZ",
        "outputId": "739c773f-9b77-4da0-9b48-b56afc3d2675"
      },
      "execution_count": 48,
      "outputs": [
        {
          "output_type": "execute_result",
          "data": {
            "text/plain": [
              "'financial literacy is the ability to understand and make use of a variety of financial skills . personal finance is about making and meeting your financial goals . bank accounts are typically the first financial account that you’ll open .'"
            ],
            "application/vnd.google.colaboratory.intrinsic+json": {
              "type": "string"
            }
          },
          "metadata": {},
          "execution_count": 48
        }
      ]
    },
    {
      "cell_type": "code",
      "source": [
        "print(\"Scores for T5 Prompt 1\")\n",
        "calculate_summary_scores(text, summary)"
      ],
      "metadata": {
        "colab": {
          "base_uri": "https://localhost:8080/"
        },
        "id": "r3FKY6J1U0AO",
        "outputId": "1f479abf-9886-4fc4-842f-2f8afaf35e16"
      },
      "execution_count": 49,
      "outputs": [
        {
          "output_type": "stream",
          "name": "stdout",
          "text": [
            "Scores for T5 Prompt 1\n"
          ]
        },
        {
          "output_type": "stream",
          "name": "stderr",
          "text": [
            "Some weights of RobertaModel were not initialized from the model checkpoint at roberta-large and are newly initialized: ['roberta.pooler.dense.bias', 'roberta.pooler.dense.weight']\n",
            "You should probably TRAIN this model on a down-stream task to be able to use it for predictions and inference.\n"
          ]
        },
        {
          "output_type": "stream",
          "name": "stdout",
          "text": [
            "Summary Evaluation Metrics:\n",
            "------------------------------\n",
            "\n",
            "ROUGE Scores:\n",
            "  ROUGE-1: Precision: 1.0000, Recall: 0.1397, F1: 0.2452\n",
            "  ROUGE-2: Precision: 0.8919, Recall: 0.1218, F1: 0.2143\n",
            "  ROUGE-L: Precision: 0.9737, Recall: 0.1360, F1: 0.2387\n",
            "\n",
            "BERT Score:\n",
            "  Precision: 0.9233\n",
            "  Recall: 0.8288\n",
            "  F1 Score: 0.8735\n"
          ]
        }
      ]
    },
    {
      "cell_type": "markdown",
      "source": [
        "**Prompt 2**"
      ],
      "metadata": {
        "id": "Q78Rh3r_J5SS"
      }
    },
    {
      "cell_type": "code",
      "source": [
        "inputs = tokenizer.encode(\"Summarize and give as key points: \" + text,\n",
        "return_tensors='pt',\n",
        "max_length=512,\n",
        "truncation=True)"
      ],
      "metadata": {
        "id": "NNQam5Z9UkYl"
      },
      "execution_count": 50,
      "outputs": []
    },
    {
      "cell_type": "code",
      "source": [
        "summary_ids = model.generate(inputs, max_length=400, min_length=300)\n",
        "summary = tokenizer.decode(summary_ids[0], skip_special_tokens=True)"
      ],
      "metadata": {
        "id": "6GBOCW_mKWWT"
      },
      "execution_count": 51,
      "outputs": []
    },
    {
      "cell_type": "code",
      "source": [
        "summary"
      ],
      "metadata": {
        "id": "h-3OF1m6KYCk",
        "colab": {
          "base_uri": "https://localhost:8080/",
          "height": 88
        },
        "outputId": "9fa80de8-f792-4288-d228-d395f3226baf"
      },
      "execution_count": 52,
      "outputs": [
        {
          "output_type": "execute_result",
          "data": {
            "text/plain": [
              "'financial literacy is the ability to understand and make use of a variety of financial skills . it includes personal financial management, budgeting, and investing . personal finance is about making and meeting your financial goals . personal finance includes banking, budgeting, handling debt and credit, and investing . bank accounts are the first financial account that you’ll open . bank accounts are a great way to save money and build your financial future .. bank accounts are a great way to save money and build your financial future .. bank accounts                                                                                                                                         '"
            ],
            "application/vnd.google.colaboratory.intrinsic+json": {
              "type": "string"
            }
          },
          "metadata": {},
          "execution_count": 52
        }
      ]
    },
    {
      "cell_type": "code",
      "source": [
        "print(\"Scores for T5 Prompt 2\")\n",
        "calculate_summary_scores(text, summary)"
      ],
      "metadata": {
        "id": "ebXPdRRhWLbq",
        "colab": {
          "base_uri": "https://localhost:8080/"
        },
        "outputId": "26b0511e-0911-4599-f816-56acf044c8e3"
      },
      "execution_count": 53,
      "outputs": [
        {
          "output_type": "stream",
          "name": "stdout",
          "text": [
            "Scores for T5 Prompt 2\n"
          ]
        },
        {
          "output_type": "stream",
          "name": "stderr",
          "text": [
            "Some weights of RobertaModel were not initialized from the model checkpoint at roberta-large and are newly initialized: ['roberta.pooler.dense.bias', 'roberta.pooler.dense.weight']\n",
            "You should probably TRAIN this model on a down-stream task to be able to use it for predictions and inference.\n"
          ]
        },
        {
          "output_type": "stream",
          "name": "stdout",
          "text": [
            "Summary Evaluation Metrics:\n",
            "------------------------------\n",
            "\n",
            "ROUGE Scores:\n",
            "  ROUGE-1: Precision: 0.9302, Recall: 0.2941, F1: 0.4469\n",
            "  ROUGE-2: Precision: 0.6118, Recall: 0.1919, F1: 0.2921\n",
            "  ROUGE-L: Precision: 0.7093, Recall: 0.2243, F1: 0.3408\n",
            "\n",
            "BERT Score:\n",
            "  Precision: 0.9082\n",
            "  Recall: 0.8522\n",
            "  F1 Score: 0.8793\n"
          ]
        }
      ]
    },
    {
      "cell_type": "markdown",
      "source": [
        "# Hugging Face"
      ],
      "metadata": {
        "id": "N0q3iOuGy_Pa"
      }
    },
    {
      "cell_type": "code",
      "source": [
        "from transformers import pipeline"
      ],
      "metadata": {
        "id": "tTOy9xUJ6pEb"
      },
      "execution_count": 54,
      "outputs": []
    },
    {
      "cell_type": "markdown",
      "source": [
        "**DistilBERT**"
      ],
      "metadata": {
        "id": "6xLIbmLR01tf"
      }
    },
    {
      "cell_type": "code",
      "source": [
        "\n",
        "summarizer = pipeline(\"summarization\", model=\"sshleifer/distilbart-cnn-12-6\")\n",
        "# Generate the summary\n",
        "summary = summarizer(text, max_length=100, min_length=90, do_sample=False)\n",
        "# Print the summary\n",
        "summary=summary[0]['summary_text']"
      ],
      "metadata": {
        "id": "dmnuAvuty-_8"
      },
      "execution_count": 55,
      "outputs": []
    },
    {
      "cell_type": "code",
      "source": [
        "summary"
      ],
      "metadata": {
        "id": "z0bq4ha8y-sS",
        "colab": {
          "base_uri": "https://localhost:8080/",
          "height": 88
        },
        "outputId": "bbf800ac-4178-4d63-8d1c-d4304a92b3ef"
      },
      "execution_count": 56,
      "outputs": [
        {
          "output_type": "execute_result",
          "data": {
            "text/plain": [
              "' financial literacy is the ability to understand and make use of a variety of financial skills, including personal financial management, budgeting, and investing . it also means comprehending certain financial principles and concepts, such as the time value of money, compound interest, managing debt, and financial planning . educating yourself on these topics also involves learning how money works, setting and achieving financial goals, becoming aware of unethical financial practices, and managing financial challenges that life throws your way .'"
            ],
            "application/vnd.google.colaboratory.intrinsic+json": {
              "type": "string"
            }
          },
          "metadata": {},
          "execution_count": 56
        }
      ]
    },
    {
      "cell_type": "code",
      "source": [
        "print(\"Scores for DistilBERT\")\n",
        "calculate_summary_scores(text, summary)"
      ],
      "metadata": {
        "id": "Eg0n1CefZn3m",
        "colab": {
          "base_uri": "https://localhost:8080/"
        },
        "outputId": "bb6e14d4-234a-47b9-cdfb-853422fdd547"
      },
      "execution_count": 57,
      "outputs": [
        {
          "output_type": "stream",
          "name": "stdout",
          "text": [
            "Scores for DistilBERT\n"
          ]
        },
        {
          "output_type": "stream",
          "name": "stderr",
          "text": [
            "Some weights of RobertaModel were not initialized from the model checkpoint at roberta-large and are newly initialized: ['roberta.pooler.dense.bias', 'roberta.pooler.dense.weight']\n",
            "You should probably TRAIN this model on a down-stream task to be able to use it for predictions and inference.\n"
          ]
        },
        {
          "output_type": "stream",
          "name": "stdout",
          "text": [
            "Summary Evaluation Metrics:\n",
            "------------------------------\n",
            "\n",
            "ROUGE Scores:\n",
            "  ROUGE-1: Precision: 1.0000, Recall: 0.2831, F1: 0.4413\n",
            "  ROUGE-2: Precision: 0.9737, Recall: 0.2731, F1: 0.4265\n",
            "  ROUGE-L: Precision: 1.0000, Recall: 0.2831, F1: 0.4413\n",
            "\n",
            "BERT Score:\n",
            "  Precision: 0.9682\n",
            "  Recall: 0.8692\n",
            "  F1 Score: 0.9160\n"
          ]
        }
      ]
    },
    {
      "cell_type": "markdown",
      "source": [
        "**T5 Small**"
      ],
      "metadata": {
        "id": "6RJxg1V_84uD"
      }
    },
    {
      "cell_type": "code",
      "source": [
        "summarizer = pipeline(\"summarization\", model=\"t5-small\")\n",
        "# Generate the summary\n",
        "summary = summarizer(text, max_length=100, min_length=90, do_sample=False)\n",
        "# Print the summary\n",
        "summary=summary[0]['summary_text']"
      ],
      "metadata": {
        "id": "_LbZfJKDzmBv"
      },
      "execution_count": 58,
      "outputs": []
    },
    {
      "cell_type": "code",
      "source": [
        "summary"
      ],
      "metadata": {
        "id": "mQzaZ0250S8V",
        "colab": {
          "base_uri": "https://localhost:8080/",
          "height": 70
        },
        "outputId": "3cc2fea5-6f07-4587-c284-c2228ede8344"
      },
      "execution_count": 59,
      "outputs": [
        {
          "output_type": "execute_result",
          "data": {
            "text/plain": [
              "'financial literacy is the ability to understand and make use of a variety of financial skills, including personal financial management, budgeting, and investing . key steps to attaining financial literacy include learning how to create a budget, track spending, pay off debt, and plan for retirement . educating yourself on these topics also involves learning how money works, setting and achieving financial goals, and managing financial challenges that life throws your way .'"
            ],
            "application/vnd.google.colaboratory.intrinsic+json": {
              "type": "string"
            }
          },
          "metadata": {},
          "execution_count": 59
        }
      ]
    },
    {
      "cell_type": "code",
      "source": [
        "print(\"Scores for T5 Small\")\n",
        "calculate_summary_scores(text, summary)"
      ],
      "metadata": {
        "id": "xD1DKLzna7_E",
        "colab": {
          "base_uri": "https://localhost:8080/"
        },
        "outputId": "70894b9d-d1ea-4556-c8f4-83637e092bb5"
      },
      "execution_count": 60,
      "outputs": [
        {
          "output_type": "stream",
          "name": "stdout",
          "text": [
            "Scores for T5 Small\n"
          ]
        },
        {
          "output_type": "stream",
          "name": "stderr",
          "text": [
            "Some weights of RobertaModel were not initialized from the model checkpoint at roberta-large and are newly initialized: ['roberta.pooler.dense.bias', 'roberta.pooler.dense.weight']\n",
            "You should probably TRAIN this model on a down-stream task to be able to use it for predictions and inference.\n"
          ]
        },
        {
          "output_type": "stream",
          "name": "stdout",
          "text": [
            "Summary Evaluation Metrics:\n",
            "------------------------------\n",
            "\n",
            "ROUGE Scores:\n",
            "  ROUGE-1: Precision: 1.0000, Recall: 0.2574, F1: 0.4094\n",
            "  ROUGE-2: Precision: 0.9710, Recall: 0.2472, F1: 0.3941\n",
            "  ROUGE-L: Precision: 1.0000, Recall: 0.2574, F1: 0.4094\n",
            "\n",
            "BERT Score:\n",
            "  Precision: 0.9601\n",
            "  Recall: 0.8662\n",
            "  F1 Score: 0.9107\n"
          ]
        }
      ]
    },
    {
      "cell_type": "markdown",
      "source": [
        "**PEGASUS**"
      ],
      "metadata": {
        "id": "E5m9O36PAm0D"
      }
    },
    {
      "cell_type": "code",
      "source": [
        "summarizer = pipeline(\"summarization\", model=\"google/pegasus-cnn_dailymail\")\n",
        "# Generate the summary\n",
        "summary = summarizer(text, max_length=100, min_length=90, do_sample=False)\n",
        "# Print the summary\n",
        "summary=summary[0]['summary_text']"
      ],
      "metadata": {
        "id": "r9Cst7hQ9Gku",
        "colab": {
          "base_uri": "https://localhost:8080/"
        },
        "outputId": "b2d69a20-5077-401c-995c-97555aaf69d1"
      },
      "execution_count": 61,
      "outputs": [
        {
          "output_type": "stream",
          "name": "stderr",
          "text": [
            "Some weights of PegasusForConditionalGeneration were not initialized from the model checkpoint at google/pegasus-cnn_dailymail and are newly initialized: ['model.decoder.embed_positions.weight', 'model.encoder.embed_positions.weight']\n",
            "You should probably TRAIN this model on a down-stream task to be able to use it for predictions and inference.\n"
          ]
        }
      ]
    },
    {
      "cell_type": "code",
      "source": [
        "summary"
      ],
      "metadata": {
        "id": "4O487ZSmAram",
        "colab": {
          "base_uri": "https://localhost:8080/",
          "height": 70
        },
        "outputId": "1f628c7f-82a0-4490-eaeb-336b85c47ca8"
      },
      "execution_count": 62,
      "outputs": [
        {
          "output_type": "execute_result",
          "data": {
            "text/plain": [
              "'financial literacy is the ability to understand and make use of a variety of financial skills .<n>key steps to attaining financial literacy include learning how to create a budget, track spending, pay off debt, and plan for retirement .<n>personal finance is about making and meeting your financial goals, whether you want to own a home, help other members of your family, save for your children’s college education, plan for retirement, or anything else .'"
            ],
            "application/vnd.google.colaboratory.intrinsic+json": {
              "type": "string"
            }
          },
          "metadata": {},
          "execution_count": 62
        }
      ]
    },
    {
      "cell_type": "code",
      "source": [
        "print(\"Scores for Pegasus\")\n",
        "calculate_summary_scores(text, summary)"
      ],
      "metadata": {
        "id": "emCg4yRhbqgU",
        "colab": {
          "base_uri": "https://localhost:8080/"
        },
        "outputId": "1b659d93-3030-4e0d-bcea-818a08183f0f"
      },
      "execution_count": 63,
      "outputs": [
        {
          "output_type": "stream",
          "name": "stdout",
          "text": [
            "Scores for Pegasus\n"
          ]
        },
        {
          "output_type": "stream",
          "name": "stderr",
          "text": [
            "Some weights of RobertaModel were not initialized from the model checkpoint at roberta-large and are newly initialized: ['roberta.pooler.dense.bias', 'roberta.pooler.dense.weight']\n",
            "You should probably TRAIN this model on a down-stream task to be able to use it for predictions and inference.\n"
          ]
        },
        {
          "output_type": "stream",
          "name": "stdout",
          "text": [
            "Summary Evaluation Metrics:\n",
            "------------------------------\n",
            "\n",
            "ROUGE Scores:\n",
            "  ROUGE-1: Precision: 0.9737, Recall: 0.2721, F1: 0.4253\n",
            "  ROUGE-2: Precision: 0.9333, Recall: 0.2583, F1: 0.4046\n",
            "  ROUGE-L: Precision: 0.9737, Recall: 0.2721, F1: 0.4253\n",
            "\n",
            "BERT Score:\n",
            "  Precision: 0.9367\n",
            "  Recall: 0.8651\n",
            "  F1 Score: 0.8995\n"
          ]
        }
      ]
    },
    {
      "cell_type": "markdown",
      "source": [
        " **LED (Longformer Encoder-Decoder)**"
      ],
      "metadata": {
        "id": "glQFclWOBsMy"
      }
    },
    {
      "cell_type": "code",
      "source": [
        "summarizer = pipeline(\"summarization\", model=\"allenai/led-base-16384\")\n",
        "# Generate the summary\n",
        "summary = summarizer(text, max_length=100, min_length=90, do_sample=False)\n",
        "# Print the summary\n",
        "summary=summary[0]['summary_text']"
      ],
      "metadata": {
        "id": "Mfm5dzKUBrzK"
      },
      "execution_count": 64,
      "outputs": []
    },
    {
      "cell_type": "code",
      "source": [
        "summary"
      ],
      "metadata": {
        "id": "mUDUEM4mBeR_",
        "colab": {
          "base_uri": "https://localhost:8080/",
          "height": 88
        },
        "outputId": "2e55aaaa-40ff-4b2c-82e6-c7c27b8877e6"
      },
      "execution_count": 65,
      "outputs": [
        {
          "output_type": "execute_result",
          "data": {
            "text/plain": [
              "'financial literacy is the ability to understand and make use of a variety of financial skills, including personal financial management, budgeting, and investing. it also means comprehending certain financial principles and concepts, such as the time value of money, compound interest, managing debt, and financial planning. achieving financial literacy can help individuals to avoid making poor financial decisions. it can help them become self-sufficient and achieve financial stability. key steps to attaining financial literacy include learning how to create a budget,'"
            ],
            "application/vnd.google.colaboratory.intrinsic+json": {
              "type": "string"
            }
          },
          "metadata": {},
          "execution_count": 65
        }
      ]
    },
    {
      "cell_type": "code",
      "source": [
        "print(\"Scores for LED\")\n",
        "calculate_summary_scores(text, summary)"
      ],
      "metadata": {
        "id": "3kbqKBRNB2xz",
        "colab": {
          "base_uri": "https://localhost:8080/"
        },
        "outputId": "dbb84285-dc3a-48bb-8cda-ce0ca5ec2a05"
      },
      "execution_count": 66,
      "outputs": [
        {
          "output_type": "stream",
          "name": "stdout",
          "text": [
            "Scores for LED\n"
          ]
        },
        {
          "output_type": "stream",
          "name": "stderr",
          "text": [
            "Some weights of RobertaModel were not initialized from the model checkpoint at roberta-large and are newly initialized: ['roberta.pooler.dense.bias', 'roberta.pooler.dense.weight']\n",
            "You should probably TRAIN this model on a down-stream task to be able to use it for predictions and inference.\n"
          ]
        },
        {
          "output_type": "stream",
          "name": "stdout",
          "text": [
            "Summary Evaluation Metrics:\n",
            "------------------------------\n",
            "\n",
            "ROUGE Scores:\n",
            "  ROUGE-1: Precision: 1.0000, Recall: 0.3015, F1: 0.4633\n",
            "  ROUGE-2: Precision: 1.0000, Recall: 0.2989, F1: 0.4602\n",
            "  ROUGE-L: Precision: 1.0000, Recall: 0.3015, F1: 0.4633\n",
            "\n",
            "BERT Score:\n",
            "  Precision: 0.9845\n",
            "  Recall: 0.8743\n",
            "  F1 Score: 0.9261\n"
          ]
        }
      ]
    },
    {
      "cell_type": "markdown",
      "source": [
        "**BART**"
      ],
      "metadata": {
        "id": "O3epQ2Ca6X1q"
      }
    },
    {
      "cell_type": "code",
      "source": [
        "text"
      ],
      "metadata": {
        "id": "E7rfdBI76f2b",
        "colab": {
          "base_uri": "https://localhost:8080/",
          "height": 123
        },
        "outputId": "6acd2565-58f8-4308-f6d5-8612e7b6eccf"
      },
      "execution_count": 67,
      "outputs": [
        {
          "output_type": "execute_result",
          "data": {
            "text/plain": [
              "\"financial literacy is the ability to understand and make use of a variety of financial skills, including personal financial management, budgeting, and investing. it also means comprehending certain financial principles and concepts, such as the time value of money, compound interest, managing debt, and financial planning. achieving financial literacy can help individuals to avoid making poor financial decisions. it can help them become self-sufficient and achieve financial stability. key steps to attaining financial literacy include learning how to create a budget, track spending, pay off debt, and plan for retirement. educating yourself on these topics also involves learning how money works, setting and achieving financial goals, becoming aware of unethical/discriminatory financial practices, and managing financial challenges that life throws your way. personal finance basics personal finance is where financial literacy translates into individual financial decision-making. how do you manage your money? which savings and investment vehicles are you using? personal finance is about making and meeting your financial goals, whether you want to own a home, help other members of your family, save for your children’s college education, support causes that you care about, plan for retirement, or anything else. among other topics, it encompasses banking, budgeting, handling debt and credit, and investing. let’s take a look at these basics to get you started. introduction to bank accounts a bank account is typically the first financial account that you’ll open. bank accounts can hold and build the money you'll need for major purchases and life events. here’s some background on bank accounts and why they are step one in creating a stable financial future.\""
            ],
            "application/vnd.google.colaboratory.intrinsic+json": {
              "type": "string"
            }
          },
          "metadata": {},
          "execution_count": 67
        }
      ]
    },
    {
      "cell_type": "code",
      "source": [
        "len(text.split(\" \"))"
      ],
      "metadata": {
        "id": "7k2OIG9r7GRN",
        "colab": {
          "base_uri": "https://localhost:8080/"
        },
        "outputId": "8a001b1a-f7fe-4616-c828-c881b9a68a68"
      },
      "execution_count": 68,
      "outputs": [
        {
          "output_type": "execute_result",
          "data": {
            "text/plain": [
              "264"
            ]
          },
          "metadata": {},
          "execution_count": 68
        }
      ]
    },
    {
      "cell_type": "code",
      "source": [
        "summarizer = pipeline(\"summarization\", model=\"facebook/bart-large-xsum\")\n",
        "# Generate the summary\n",
        "summary = summarizer(text, max_length=100, min_length=90, do_sample=False)\n",
        "# Print the summary\n",
        "summary=summary[0]['summary_text']"
      ],
      "metadata": {
        "id": "ubowG4O_cSWv"
      },
      "execution_count": 75,
      "outputs": []
    },
    {
      "cell_type": "code",
      "source": [
        "summary"
      ],
      "metadata": {
        "id": "ZTHU8mqT6jYn",
        "colab": {
          "base_uri": "https://localhost:8080/",
          "height": 70
        },
        "outputId": "b6b9c2bd-461a-4b13-da68-89922662825c"
      },
      "execution_count": 76,
      "outputs": [
        {
          "output_type": "execute_result",
          "data": {
            "text/plain": [
              "'If you’re looking for a way to improve your financial literacy, here’s what you need to know about personal finance. and how you can get started. in our series of articles, we’ll be looking at how to get started with personal finance, and how to help you achieve financial stability and self-sufficiency, as well as how to set and achieve goals, and what you can do to help yourself and your family.'"
            ],
            "application/vnd.google.colaboratory.intrinsic+json": {
              "type": "string"
            }
          },
          "metadata": {},
          "execution_count": 76
        }
      ]
    },
    {
      "cell_type": "code",
      "source": [
        "summarizer = pipeline(\"summarization\", model=\"facebook/bart-large-cnn\")\n",
        "# Generate the summary\n",
        "summary = summarizer(text, max_length=100, min_length=90, do_sample=False)\n",
        "# Print the summary\n",
        "summary=summary[0]['summary_text']"
      ],
      "metadata": {
        "id": "ZDoOtA0c8D2Q"
      },
      "execution_count": 78,
      "outputs": []
    },
    {
      "cell_type": "code",
      "source": [
        "summary"
      ],
      "metadata": {
        "id": "YvxZLwik8D5N",
        "colab": {
          "base_uri": "https://localhost:8080/",
          "height": 88
        },
        "outputId": "f55e65a5-2a35-4b7b-deff-f3328fe10e1e"
      },
      "execution_count": 79,
      "outputs": [
        {
          "output_type": "execute_result",
          "data": {
            "text/plain": [
              "' financial literacy is the ability to understand and make use of a variety of financial skills, including personal financial management, budgeting, and investing. achieving financial literacy can help individuals to avoid making poor financial decisions. It can help them become self-sufficient and achieve financial stability. educating yourself on these topics also involves learning how money works, setting and achieving financial goals, becoming aware of unethical/discriminatory financial practices, and managing financial challenges that life throws your way.'"
            ],
            "application/vnd.google.colaboratory.intrinsic+json": {
              "type": "string"
            }
          },
          "metadata": {},
          "execution_count": 79
        }
      ]
    },
    {
      "cell_type": "markdown",
      "source": [
        "**PEGASUS**"
      ],
      "metadata": {
        "id": "8PyMPVQ47eSr"
      }
    },
    {
      "cell_type": "code",
      "source": [
        "summarizer = pipeline(\"summarization\", model=\"google/pegasus-cnn_dailymail\")\n",
        "# Generate the summary\n",
        "summary = summarizer(text, max_length=100, min_length=90, do_sample=False)\n",
        "# Print the summary\n",
        "summary=summary[0]['summary_text']"
      ],
      "metadata": {
        "id": "IDoqsFIM6_YM",
        "colab": {
          "base_uri": "https://localhost:8080/"
        },
        "outputId": "c23b59ab-6483-42a9-8029-bfbd4ffadb9a"
      },
      "execution_count": 80,
      "outputs": [
        {
          "output_type": "stream",
          "name": "stderr",
          "text": [
            "Some weights of PegasusForConditionalGeneration were not initialized from the model checkpoint at google/pegasus-cnn_dailymail and are newly initialized: ['model.decoder.embed_positions.weight', 'model.encoder.embed_positions.weight']\n",
            "You should probably TRAIN this model on a down-stream task to be able to use it for predictions and inference.\n"
          ]
        }
      ]
    },
    {
      "cell_type": "code",
      "source": [
        "summary"
      ],
      "metadata": {
        "id": "H4r-fALx7jHI",
        "colab": {
          "base_uri": "https://localhost:8080/",
          "height": 70
        },
        "outputId": "039d5117-2a9c-4573-daa3-32b7ae8d065b"
      },
      "execution_count": 82,
      "outputs": [
        {
          "output_type": "execute_result",
          "data": {
            "text/plain": [
              "'financial literacy is the ability to understand and make use of a variety of financial skills .<n>key steps to attaining financial literacy include learning how to create a budget, track spending, pay off debt, and plan for retirement .<n>personal finance is about making and meeting your financial goals, whether you want to own a home, help other members of your family, save for your children’s college education, plan for retirement, or anything else .'"
            ],
            "application/vnd.google.colaboratory.intrinsic+json": {
              "type": "string"
            }
          },
          "metadata": {},
          "execution_count": 82
        }
      ]
    }
  ]
}