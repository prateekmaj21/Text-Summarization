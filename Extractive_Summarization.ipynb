{
  "nbformat": 4,
  "nbformat_minor": 0,
  "metadata": {
    "colab": {
      "provenance": []
    },
    "kernelspec": {
      "name": "python3",
      "display_name": "Python 3"
    },
    "language_info": {
      "name": "python"
    }
  },
  "cells": [
    {
      "cell_type": "markdown",
      "source": [
        "#Extractive Summarization"
      ],
      "metadata": {
        "id": "FiBTl0F6ppBt"
      }
    },
    {
      "cell_type": "code",
      "source": [
        "text = \"\"\"Financial literacy is the ability to understand and make use of a variety of financial skills, including personal financial management, budgeting, and investing. It also means comprehending certain financial principles and concepts, such as the time value of money, compound interest, managing debt, and financial planning.\n",
        "\n",
        "Achieving financial literacy can help individuals to avoid making poor financial decisions. It can help them become self-sufficient and achieve financial stability. Key steps to attaining financial literacy include learning how to create a budget, track spending, pay off debt, and plan for retirement.\n",
        "\n",
        "Educating yourself on these topics also involves learning how money works, setting and achieving financial goals, becoming aware of unethical/discriminatory financial practices, and managing financial challenges that life throws your way.\n",
        "Personal Finance Basics\n",
        "Personal finance is where financial literacy translates into individual financial decision-making. How do you manage your money? Which savings and investment vehicles are you using? Personal finance is about making and meeting your financial goals, whether you want to own a home, help other members of your family, save for your children’s college education, support causes that you care about, plan for retirement, or anything else.\n",
        "\n",
        "Among other topics, it encompasses banking, budgeting, handling debt and credit, and investing. Let’s take a look at these basics to get you started.\n",
        "\n",
        "Introduction to Bank Accounts\n",
        "A bank account is typically the first financial account that you’ll open. Bank accounts can hold and build the money you'll need for major purchases and life events. Here’s some background on bank accounts and why they are step one in creating a stable financial future.\n",
        "\n",
        "\"\"\""
      ],
      "metadata": {
        "id": "34Q3WbFnq7IE"
      },
      "execution_count": 7,
      "outputs": []
    },
    {
      "cell_type": "code",
      "source": [
        "import re\n",
        "# Remove leading/trailing whitespace and extra newline characters\n",
        "text = text.strip()\n",
        "# Remove commented lines\n",
        "text = re.sub(r'^\\s*#.*$', '', text, flags=re.MULTILINE)\n",
        "\n",
        "# Remove extra whitespace within the text\n",
        "text = re.sub(r'\\s+', ' ', text)\n",
        "# Convert to lowercase\n",
        "text = text.lower()"
      ],
      "metadata": {
        "id": "i-GyK0OF_PAZ"
      },
      "execution_count": 8,
      "outputs": []
    },
    {
      "cell_type": "code",
      "source": [
        "print(text)"
      ],
      "metadata": {
        "colab": {
          "base_uri": "https://localhost:8080/"
        },
        "id": "tN778X1N_X_Y",
        "outputId": "96a578eb-bc83-4d3c-fabe-2d81cd4c5b6d"
      },
      "execution_count": 9,
      "outputs": [
        {
          "output_type": "stream",
          "name": "stdout",
          "text": [
            "financial literacy is the ability to understand and make use of a variety of financial skills, including personal financial management, budgeting, and investing. it also means comprehending certain financial principles and concepts, such as the time value of money, compound interest, managing debt, and financial planning. achieving financial literacy can help individuals to avoid making poor financial decisions. it can help them become self-sufficient and achieve financial stability. key steps to attaining financial literacy include learning how to create a budget, track spending, pay off debt, and plan for retirement. educating yourself on these topics also involves learning how money works, setting and achieving financial goals, becoming aware of unethical/discriminatory financial practices, and managing financial challenges that life throws your way. personal finance basics personal finance is where financial literacy translates into individual financial decision-making. how do you manage your money? which savings and investment vehicles are you using? personal finance is about making and meeting your financial goals, whether you want to own a home, help other members of your family, save for your children’s college education, support causes that you care about, plan for retirement, or anything else. among other topics, it encompasses banking, budgeting, handling debt and credit, and investing. let’s take a look at these basics to get you started. introduction to bank accounts a bank account is typically the first financial account that you’ll open. bank accounts can hold and build the money you'll need for major purchases and life events. here’s some background on bank accounts and why they are step one in creating a stable financial future.\n"
          ]
        }
      ]
    },
    {
      "cell_type": "markdown",
      "source": [
        "**Frequency-based Approach**"
      ],
      "metadata": {
        "id": "vOakxU-vqFbT"
      }
    },
    {
      "cell_type": "code",
      "source": [
        "import nltk\n",
        "nltk.download('punkt') # punkt tokenizer for sentence tokenization\n",
        "nltk.download('punkt_tab')\n",
        "nltk.download('stopwords') # list of stop words, such as 'a', 'an', 'the', 'in', etc, which would be dropped\n",
        "from collections import Counter # Imports the Counter class from the collections module, used for counting the frequency of words in a text.\n",
        "from nltk.corpus import stopwords # Imports the stop words list from the NLTK corpus\n",
        "from nltk.tokenize import sent_tokenize, word_tokenize # Imports the sentence tokenizer and word tokenizer from the NLTK tokenizer module.\n"
      ],
      "metadata": {
        "colab": {
          "base_uri": "https://localhost:8080/"
        },
        "id": "8PCHVt3NptV9",
        "outputId": "96da8496-12c1-4548-dfd6-414f69825220"
      },
      "execution_count": 10,
      "outputs": [
        {
          "output_type": "stream",
          "name": "stderr",
          "text": [
            "[nltk_data] Downloading package punkt to /root/nltk_data...\n",
            "[nltk_data]   Package punkt is already up-to-date!\n",
            "[nltk_data] Downloading package punkt_tab to /root/nltk_data...\n",
            "[nltk_data]   Unzipping tokenizers/punkt_tab.zip.\n",
            "[nltk_data] Downloading package stopwords to /root/nltk_data...\n",
            "[nltk_data]   Package stopwords is already up-to-date!\n"
          ]
        }
      ]
    },
    {
      "cell_type": "code",
      "source": [
        "# this function would take 2 inputs, one being the text, and the other being the summary which would contain the number of lines\n",
        "def generate_summary(text, n):\n",
        "# Tokenize the text into individual sentences\n",
        "  sentences = sent_tokenize(text)\n",
        "\n",
        "# Tokenize each sentence into individual words and remove stopwords\n",
        "  stop_words = set(stopwords.words('english'))\n",
        "# tokenize each sentence from sentences into individual words using the word_tokenize function of nltk.tokenize module\n",
        "# removes any stop words and non-alphanumeric characters from the resulting list of words and converts them all to lowercase\n",
        "  words = [word.lower() for word in word_tokenize(text) if word.lower() not in stop_words and word.isalnum()]\n",
        "\n",
        "# Compute the frequency of each word\n",
        "  word_freq = Counter(words)\n",
        "\n",
        "# Compute the score for each sentence based on the frequency of its words\n",
        "# After this block of code is executed, sentence_scores will contain the scores of each sentence in the given text,\n",
        "# where each score is a sum of the frequency counts of its constituent words\n",
        "\n",
        "# empty dictionary to store the scores for each sentence\n",
        "  sentence_scores = {}\n",
        "\n",
        "  for sentence in sentences:\n",
        "    sentence_words = [word.lower() for word in word_tokenize(sentence) if word.lower() not in stop_words and word.isalnum()]\n",
        "    sentence_score = sum([word_freq[word] for word in sentence_words])\n",
        "    if len(sentence_words) < 30:\n",
        "      sentence_scores[sentence] = sentence_score\n",
        "\n",
        "# checks if the length of the sentence_words list is less than 30 (parameter can be adjusted based on the desired length of summary sentences)\n",
        "# If condition -> true, score of the current sentence is added to the sentence_scores dictionary with the sentence itself as the key\n",
        "# This is to filter out very short sentences that may not provide meaningful information for summary generation\n",
        "\n",
        "# Select the top n sentences with the highest scores\n",
        "  summary_sentences = sorted(sentence_scores, key=sentence_scores.get, reverse=True)[:n]\n",
        "  summary = ' '.join(summary_sentences)\n",
        "\n",
        "  return summary"
      ],
      "metadata": {
        "id": "KnxbLFi6sFJM"
      },
      "execution_count": 11,
      "outputs": []
    },
    {
      "cell_type": "code",
      "source": [
        "summary = generate_summary(text, 3)\n",
        "summary_sentences = summary.split('. ')\n",
        "formatted_summary = '.\\n'.join(summary_sentences)\n",
        "\n",
        "print(formatted_summary)"
      ],
      "metadata": {
        "colab": {
          "base_uri": "https://localhost:8080/"
        },
        "id": "Av7nzGjusSQV",
        "outputId": "2cf88e1e-57b2-4558-9d4d-028add6958ed"
      },
      "execution_count": 12,
      "outputs": [
        {
          "output_type": "stream",
          "name": "stdout",
          "text": [
            "educating yourself on these topics also involves learning how money works, setting and achieving financial goals, becoming aware of unethical/discriminatory financial practices, and managing financial challenges that life throws your way.\n",
            "financial literacy is the ability to understand and make use of a variety of financial skills, including personal financial management, budgeting, and investing.\n",
            "personal finance basics personal finance is where financial literacy translates into individual financial decision-making.\n"
          ]
        }
      ]
    },
    {
      "cell_type": "markdown",
      "source": [
        "**TF-IDF Approach**"
      ],
      "metadata": {
        "id": "GjB_QTISxoIy"
      }
    },
    {
      "cell_type": "code",
      "source": [
        "from sklearn.feature_extraction.text import TfidfVectorizer\n",
        "# importing cosine_similarity function to compute the cosine similarity between two vectors.\n",
        "from sklearn.metrics.pairwise import cosine_similarity\n",
        "# importing nlargest to return the n largest elements from an iterable in descending order.\n",
        "from heapq import nlargest"
      ],
      "metadata": {
        "id": "Kd8SuB_-sYv7"
      },
      "execution_count": 13,
      "outputs": []
    },
    {
      "cell_type": "code",
      "source": [
        "def generate_summary_tfidf(text, n):\n",
        "# Tokenize the text into individual sentences\n",
        "  sentences = sent_tokenize(text)\n",
        "\n",
        "# Create the TF-IDF matrix\n",
        "  vectorizer = TfidfVectorizer(stop_words='english', ngram_range=(3,4) )\n",
        "  tfidf_matrix = vectorizer.fit_transform(sentences)\n",
        "\n",
        "# Compute the cosine similarity between each sentence and the document\n",
        "  sentence_scores = cosine_similarity(tfidf_matrix[-1], tfidf_matrix[:-1])[0]\n",
        "\n",
        "# Select the top n sentences with the highest scores\n",
        "  summary_sentences = nlargest(n, range(len(sentence_scores)), key=sentence_scores.__getitem__)\n",
        "\n",
        "  summary_tfidf = ' '.join([sentences[i] for i in sorted(summary_sentences)])\n",
        "\n",
        "  return summary_tfidf"
      ],
      "metadata": {
        "id": "q5uUen37xwhQ"
      },
      "execution_count": 14,
      "outputs": []
    },
    {
      "cell_type": "code",
      "source": [
        "summary = generate_summary_tfidf(text, 3)\n",
        "summary_sentences = summary.split('. ')\n",
        "formatted_summary = '.\\n'.join(summary_sentences)\n",
        "\n",
        "print(formatted_summary)"
      ],
      "metadata": {
        "colab": {
          "base_uri": "https://localhost:8080/"
        },
        "id": "VDofiO2ox3p0",
        "outputId": "7891fb5d-0155-4fc3-8677-069edf75a24d"
      },
      "execution_count": 15,
      "outputs": [
        {
          "output_type": "stream",
          "name": "stdout",
          "text": [
            "financial literacy is the ability to understand and make use of a variety of financial skills, including personal financial management, budgeting, and investing.\n",
            "it also means comprehending certain financial principles and concepts, such as the time value of money, compound interest, managing debt, and financial planning.\n",
            "achieving financial literacy can help individuals to avoid making poor financial decisions.\n"
          ]
        }
      ]
    },
    {
      "cell_type": "markdown",
      "source": [
        "**Count Vectorizer**"
      ],
      "metadata": {
        "id": "BNAuCHqiySe7"
      }
    },
    {
      "cell_type": "code",
      "source": [
        "from nltk.tokenize import sent_tokenize, word_tokenize\n",
        "from sklearn.feature_extraction.text import CountVectorizer\n",
        "\n",
        "\n",
        "# Count Vectorizer Approach\n",
        "def generate_summary_cv(text, n):\n",
        "  # Tokenize the text into individual sentences\n",
        "  sentences = sent_tokenize(text)\n",
        "\n",
        "  # Create the Count Vectorizer matrix\n",
        "  vectorizer = CountVectorizer(stop_words='english')\n",
        "  count_matrix = vectorizer.fit_transform(sentences)\n",
        "\n",
        "  # Compute the cosine similarity between each sentence and the document\n",
        "  sentence_scores = cosine_similarity(count_matrix[-1], count_matrix[:-1])[0]\n",
        "\n",
        "  # Select the top n sentences with the highest scores\n",
        "  summary_sentences = nlargest(n, range(len(sentence_scores)), key=sentence_scores.__getitem__)\n",
        "\n",
        "  summary_count = ' '.join([sentences[i] for i in sorted(summary_sentences)])\n",
        "\n",
        "  return summary_count\n"
      ],
      "metadata": {
        "id": "iuh4bKdkydGc"
      },
      "execution_count": 16,
      "outputs": []
    },
    {
      "cell_type": "code",
      "source": [
        "summary = generate_summary_cv(text, 3)\n",
        "summary_sentences = summary.split('. ')\n",
        "formatted_summary = '.\\n'.join(summary_sentences)\n",
        "\n",
        "print(formatted_summary)"
      ],
      "metadata": {
        "colab": {
          "base_uri": "https://localhost:8080/"
        },
        "id": "tbDM7uHRyff5",
        "outputId": "73a9f3d0-b677-45e6-9ee7-0b3898a33061"
      },
      "execution_count": 17,
      "outputs": [
        {
          "output_type": "stream",
          "name": "stdout",
          "text": [
            "financial literacy is the ability to understand and make use of a variety of financial skills, including personal financial management, budgeting, and investing.\n",
            "introduction to bank accounts a bank account is typically the first financial account that you’ll open.\n",
            "bank accounts can hold and build the money you'll need for major purchases and life events.\n"
          ]
        }
      ]
    },
    {
      "cell_type": "code",
      "source": [
        "pip install sumy"
      ],
      "metadata": {
        "colab": {
          "base_uri": "https://localhost:8080/"
        },
        "id": "DEWtBYSt5FaA",
        "outputId": "0e497013-3cf2-4994-ef3e-a601e8275e46"
      },
      "execution_count": 18,
      "outputs": [
        {
          "output_type": "stream",
          "name": "stdout",
          "text": [
            "Collecting sumy\n",
            "  Downloading sumy-0.11.0-py2.py3-none-any.whl.metadata (7.5 kB)\n",
            "Collecting docopt<0.7,>=0.6.1 (from sumy)\n",
            "  Downloading docopt-0.6.2.tar.gz (25 kB)\n",
            "  Preparing metadata (setup.py) ... \u001b[?25l\u001b[?25hdone\n",
            "Collecting breadability>=0.1.20 (from sumy)\n",
            "  Downloading breadability-0.1.20.tar.gz (32 kB)\n",
            "  Preparing metadata (setup.py) ... \u001b[?25l\u001b[?25hdone\n",
            "Requirement already satisfied: requests>=2.7.0 in /usr/local/lib/python3.10/dist-packages (from sumy) (2.32.3)\n",
            "Collecting pycountry>=18.2.23 (from sumy)\n",
            "  Downloading pycountry-24.6.1-py3-none-any.whl.metadata (12 kB)\n",
            "Requirement already satisfied: nltk>=3.0.2 in /usr/local/lib/python3.10/dist-packages (from sumy) (3.9.1)\n",
            "Requirement already satisfied: chardet in /usr/local/lib/python3.10/dist-packages (from breadability>=0.1.20->sumy) (5.2.0)\n",
            "Requirement already satisfied: lxml>=2.0 in /usr/local/lib/python3.10/dist-packages (from breadability>=0.1.20->sumy) (5.3.0)\n",
            "Requirement already satisfied: click in /usr/local/lib/python3.10/dist-packages (from nltk>=3.0.2->sumy) (8.1.7)\n",
            "Requirement already satisfied: joblib in /usr/local/lib/python3.10/dist-packages (from nltk>=3.0.2->sumy) (1.4.2)\n",
            "Requirement already satisfied: regex>=2021.8.3 in /usr/local/lib/python3.10/dist-packages (from nltk>=3.0.2->sumy) (2024.9.11)\n",
            "Requirement already satisfied: tqdm in /usr/local/lib/python3.10/dist-packages (from nltk>=3.0.2->sumy) (4.66.6)\n",
            "Requirement already satisfied: charset-normalizer<4,>=2 in /usr/local/lib/python3.10/dist-packages (from requests>=2.7.0->sumy) (3.4.0)\n",
            "Requirement already satisfied: idna<4,>=2.5 in /usr/local/lib/python3.10/dist-packages (from requests>=2.7.0->sumy) (3.10)\n",
            "Requirement already satisfied: urllib3<3,>=1.21.1 in /usr/local/lib/python3.10/dist-packages (from requests>=2.7.0->sumy) (2.2.3)\n",
            "Requirement already satisfied: certifi>=2017.4.17 in /usr/local/lib/python3.10/dist-packages (from requests>=2.7.0->sumy) (2024.8.30)\n",
            "Downloading sumy-0.11.0-py2.py3-none-any.whl (97 kB)\n",
            "\u001b[2K   \u001b[90m━━━━━━━━━━━━━━━━━━━━━━━━━━━━━━━━━━━━━━━━\u001b[0m \u001b[32m97.3/97.3 kB\u001b[0m \u001b[31m4.2 MB/s\u001b[0m eta \u001b[36m0:00:00\u001b[0m\n",
            "\u001b[?25hDownloading pycountry-24.6.1-py3-none-any.whl (6.3 MB)\n",
            "\u001b[2K   \u001b[90m━━━━━━━━━━━━━━━━━━━━━━━━━━━━━━━━━━━━━━━━\u001b[0m \u001b[32m6.3/6.3 MB\u001b[0m \u001b[31m56.6 MB/s\u001b[0m eta \u001b[36m0:00:00\u001b[0m\n",
            "\u001b[?25hBuilding wheels for collected packages: breadability, docopt\n",
            "  Building wheel for breadability (setup.py) ... \u001b[?25l\u001b[?25hdone\n",
            "  Created wheel for breadability: filename=breadability-0.1.20-py2.py3-none-any.whl size=21692 sha256=607018b7ec656251edbad2c4788847133d1dbc68d24fac1e80097b690986e602\n",
            "  Stored in directory: /root/.cache/pip/wheels/64/22/90/b84fcc30e16598db20a0d41340616dbf9b1e82bbcc627b0b33\n",
            "  Building wheel for docopt (setup.py) ... \u001b[?25l\u001b[?25hdone\n",
            "  Created wheel for docopt: filename=docopt-0.6.2-py2.py3-none-any.whl size=13706 sha256=a7feb136046968815f838100bb1a0af51eef6324cbf6ccecd9300babb7d04842\n",
            "  Stored in directory: /root/.cache/pip/wheels/fc/ab/d4/5da2067ac95b36618c629a5f93f809425700506f72c9732fac\n",
            "Successfully built breadability docopt\n",
            "Installing collected packages: docopt, pycountry, breadability, sumy\n",
            "Successfully installed breadability-0.1.20 docopt-0.6.2 pycountry-24.6.1 sumy-0.11.0\n"
          ]
        }
      ]
    },
    {
      "cell_type": "markdown",
      "source": [
        "**Luhn Summarizer**"
      ],
      "metadata": {
        "id": "zhmIwkEn_gyS"
      }
    },
    {
      "cell_type": "code",
      "source": [
        "from sumy.parsers.plaintext import PlaintextParser\n",
        "from sumy.nlp.tokenizers import Tokenizer\n",
        "from sumy.summarizers.luhn import LuhnSummarizer\n",
        "from sumy.nlp.stemmers import Stemmer\n",
        "from sumy.utils import get_stop_words"
      ],
      "metadata": {
        "id": "2zWa3gkzysI7"
      },
      "execution_count": 19,
      "outputs": []
    },
    {
      "cell_type": "code",
      "source": [
        "def summarize_luhn(paragraph, sentences_count=2):\n",
        "    parser = PlaintextParser.from_string(paragraph, Tokenizer(\"english\"))\n",
        "\n",
        "    summarizer = LuhnSummarizer(Stemmer(\"english\"))\n",
        "    summarizer.stop_words = get_stop_words(\"english\")\n",
        "\n",
        "    summary = summarizer(parser.document, sentences_count)\n",
        "    return summary"
      ],
      "metadata": {
        "id": "rdggCVGY_n0c"
      },
      "execution_count": 20,
      "outputs": []
    },
    {
      "cell_type": "code",
      "source": [
        "sentences_count = 3\n",
        "summary = summarize_luhn(text, sentences_count)\n",
        "\n",
        "for sentence in summary:\n",
        "  print(sentence)"
      ],
      "metadata": {
        "colab": {
          "base_uri": "https://localhost:8080/"
        },
        "id": "6jOHEnKE_8aN",
        "outputId": "c195b35d-1f78-4387-bc22-0fa950ac8c95"
      },
      "execution_count": 21,
      "outputs": [
        {
          "output_type": "stream",
          "name": "stdout",
          "text": [
            "financial literacy is the ability to understand and make use of a variety of financial skills, including personal financial management, budgeting, and investing.\n",
            "educating yourself on these topics also involves learning how money works, setting and achieving financial goals, becoming aware of unethical/discriminatory financial practices, and managing financial challenges that life throws your way.\n",
            "personal finance basics personal finance is where financial literacy translates into individual financial decision-making.\n"
          ]
        }
      ]
    },
    {
      "cell_type": "markdown",
      "source": [
        "**Edmundson Summarizer**"
      ],
      "metadata": {
        "id": "VfadALQeD1si"
      }
    },
    {
      "cell_type": "code",
      "source": [
        "from sumy.summarizers.edmundson import EdmundsonSummarizer"
      ],
      "metadata": {
        "id": "itD2a1-YAC1d"
      },
      "execution_count": 22,
      "outputs": []
    },
    {
      "cell_type": "code",
      "source": [
        "def summarize_Edmundson(paragraph, sentences_count=2, bonus_words=[''], stigma_words=[''], null_words=['']):\n",
        "    parser = PlaintextParser.from_string(paragraph, Tokenizer(\"english\"))\n",
        "\n",
        "    summarizer = EdmundsonSummarizer(Stemmer(\"english\"))\n",
        "    summarizer.stop_words = get_stop_words(\"english\")\n",
        "\n",
        "    summarizer.bonus_words = bonus_words\n",
        "\n",
        "    summarizer.stigma_words = stigma_words\n",
        "\n",
        "    summarizer.null_words = null_words\n",
        "\n",
        "    summary = summarizer(parser.document, sentences_count)\n",
        "    return summary"
      ],
      "metadata": {
        "id": "rcASAlLrD6W-"
      },
      "execution_count": 23,
      "outputs": []
    },
    {
      "cell_type": "code",
      "source": [
        "sentences_count = 3\n",
        "summary = summarize_Edmundson(text, sentences_count)\n",
        "\n",
        "for sentence in summary:\n",
        "  print(sentence)"
      ],
      "metadata": {
        "colab": {
          "base_uri": "https://localhost:8080/"
        },
        "id": "oi64xYVkEBJR",
        "outputId": "1155a15d-3897-483d-947a-0e0bb60016e1"
      },
      "execution_count": 24,
      "outputs": [
        {
          "output_type": "stream",
          "name": "stdout",
          "text": [
            "financial literacy is the ability to understand and make use of a variety of financial skills, including personal financial management, budgeting, and investing.\n",
            "it also means comprehending certain financial principles and concepts, such as the time value of money, compound interest, managing debt, and financial planning.\n",
            "here’s some background on bank accounts and why they are step one in creating a stable financial future.\n"
          ]
        }
      ]
    },
    {
      "cell_type": "markdown",
      "source": [
        "**LSA Summarizer**"
      ],
      "metadata": {
        "id": "9TQKsFiNFkix"
      }
    },
    {
      "cell_type": "code",
      "source": [
        "from sumy.summarizers.lsa import LsaSummarizer"
      ],
      "metadata": {
        "id": "R_z6sQV8EEIZ"
      },
      "execution_count": 25,
      "outputs": []
    },
    {
      "cell_type": "code",
      "source": [
        "def summarize_LSA(paragraph, sentences_count=2):\n",
        "    parser = PlaintextParser.from_string(paragraph, Tokenizer(\"english\"))\n",
        "\n",
        "    summarizer = LsaSummarizer(Stemmer(\"english\"))\n",
        "    summarizer.stop_words = get_stop_words(\"english\")\n",
        "\n",
        "    summary = summarizer(parser.document, sentences_count)\n",
        "    return summary"
      ],
      "metadata": {
        "id": "HkGwvbsiFoER"
      },
      "execution_count": 26,
      "outputs": []
    },
    {
      "cell_type": "code",
      "source": [
        "sentences_count = 3\n",
        "summary = summarize_LSA(text, sentences_count)\n",
        "\n",
        "for sentence in summary:\n",
        "  print(sentence)"
      ],
      "metadata": {
        "id": "voC9oPQBFyWM",
        "outputId": "a1458566-4eb0-4525-b4ae-575d45eb746c",
        "colab": {
          "base_uri": "https://localhost:8080/"
        }
      },
      "execution_count": 27,
      "outputs": [
        {
          "output_type": "stream",
          "name": "stdout",
          "text": [
            "key steps to attaining financial literacy include learning how to create a budget, track spending, pay off debt, and plan for retirement.\n",
            "personal finance is about making and meeting your financial goals, whether you want to own a home, help other members of your family, save for your children’s college education, support causes that you care about, plan for retirement, or anything else.\n",
            "bank accounts can hold and build the money you'll need for major purchases and life events.\n"
          ]
        }
      ]
    },
    {
      "cell_type": "markdown",
      "source": [
        "**TextRank**"
      ],
      "metadata": {
        "id": "jwuIahWM5PtP"
      }
    },
    {
      "cell_type": "code",
      "source": [
        "# Load Packages\n",
        "from sumy.parsers.plaintext import PlaintextParser\n",
        "from sumy.nlp.tokenizers import Tokenizer\n",
        "from sumy.summarizers.text_rank import TextRankSummarizer"
      ],
      "metadata": {
        "id": "JK8Lrwz7F0nt"
      },
      "execution_count": 28,
      "outputs": []
    },
    {
      "cell_type": "code",
      "source": [
        "parser = PlaintextParser.from_string(text,Tokenizer(\"english\"))"
      ],
      "metadata": {
        "id": "munCwSuM5XmO"
      },
      "execution_count": 29,
      "outputs": []
    },
    {
      "cell_type": "code",
      "source": [
        "# Summarize using sumy TextRank\n",
        "summarizer = TextRankSummarizer()\n",
        "summary =summarizer(parser.document,3)\n",
        "text_summary=\"\""
      ],
      "metadata": {
        "id": "L51V_l2d5drC"
      },
      "execution_count": 30,
      "outputs": []
    },
    {
      "cell_type": "code",
      "source": [
        "for sentence in summary:\n",
        "  print(sentence )"
      ],
      "metadata": {
        "colab": {
          "base_uri": "https://localhost:8080/"
        },
        "id": "EbYesysW5eej",
        "outputId": "0a78479b-fb59-4826-8750-9881a464dc51"
      },
      "execution_count": 31,
      "outputs": [
        {
          "output_type": "stream",
          "name": "stdout",
          "text": [
            "financial literacy is the ability to understand and make use of a variety of financial skills, including personal financial management, budgeting, and investing.\n",
            "educating yourself on these topics also involves learning how money works, setting and achieving financial goals, becoming aware of unethical/discriminatory financial practices, and managing financial challenges that life throws your way.\n",
            "personal finance is about making and meeting your financial goals, whether you want to own a home, help other members of your family, save for your children’s college education, support causes that you care about, plan for retirement, or anything else.\n"
          ]
        }
      ]
    },
    {
      "cell_type": "markdown",
      "source": [
        "**KL Sum algorithm**"
      ],
      "metadata": {
        "id": "qV0r2BC_3Rmw"
      }
    },
    {
      "cell_type": "code",
      "source": [
        "from sumy.summarizers.kl import KLSummarizer\n",
        "from sumy.nlp.stemmers import Stemmer\n",
        "from sumy.utils import get_stop_words\n",
        "\n",
        "def summarize_kl_sum(paragraph, sentences_count):\n",
        "    parser = PlaintextParser.from_string(paragraph, Tokenizer(\"english\"))\n",
        "\n",
        "    summarizer = KLSummarizer(Stemmer(\"english\"))\n",
        "    summarizer.stop_words = get_stop_words(\"english\")\n",
        "\n",
        "    summary = summarizer(parser.document, sentences_count)\n",
        "    return summary\n",
        "\n",
        "summary = summarize_kl_sum(text, 3)\n",
        "\n",
        "for sentence in summary:\n",
        "  print(sentence)"
      ],
      "metadata": {
        "colab": {
          "base_uri": "https://localhost:8080/"
        },
        "id": "aWGwzxhK3SUZ",
        "outputId": "ec0a9e54-61ac-4882-cfe6-129e932e08ad"
      },
      "execution_count": 32,
      "outputs": [
        {
          "output_type": "stream",
          "name": "stdout",
          "text": [
            "it also means comprehending certain financial principles and concepts, such as the time value of money, compound interest, managing debt, and financial planning.\n",
            "it can help them become self-sufficient and achieve financial stability.\n",
            "educating yourself on these topics also involves learning how money works, setting and achieving financial goals, becoming aware of unethical/discriminatory financial practices, and managing financial challenges that life throws your way.\n"
          ]
        }
      ]
    },
    {
      "cell_type": "code",
      "source": [],
      "metadata": {
        "id": "v7bgLW_e3Tbo"
      },
      "execution_count": 32,
      "outputs": []
    }
  ]
}